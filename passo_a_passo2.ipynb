{
 "cells": [
  {
   "cell_type": "markdown",
   "metadata": {},
   "source": [
    "# Projeto Python Insights - Analisando Dados com Python\n",
    "\n",
    "### Case - Cancelamento de Clientes\n",
    "\n",
    "Você foi contratado por uma empresa com mais de 800 mil clientes para um projeto de Dados. Recentemente a empresa percebeu que da sua base total de clientes, a maioria são clientes inativos, ou seja, que já cancelaram o serviço.\n",
    "\n",
    "Precisando melhorar seus resultados ela quer conseguir entender os principais motivos desses cancelamentos e quais as ações mais eficientes para reduzir esse número."
   ]
  },
  {
   "cell_type": "markdown",
   "metadata": {},
   "source": [
    "##### Passo 0 - Entender qual o problema\n",
    "\n",
    "É importante compreender o problema apresentado para que seja possível analisar e relacionar as principais causas e motivos."
   ]
  },
  {
   "cell_type": "markdown",
   "metadata": {},
   "source": [
    "##### Passo 1 - Importar a base de dados (biblioteca Pandas)"
   ]
  },
  {
   "cell_type": "code",
   "execution_count": null,
   "metadata": {},
   "outputs": [],
   "source": [
    "import pandas as pd \n",
    "tabela = pd.read_csv(\"cancelamentos.csv\")"
   ]
  },
  {
   "cell_type": "markdown",
   "metadata": {},
   "source": [
    "##### Passo 2 - Vizualizar os dados e consultar as informações dos dados"
   ]
  },
  {
   "cell_type": "code",
   "execution_count": null,
   "metadata": {},
   "outputs": [],
   "source": [
    "display(tabela)\n",
    "tabela.info()"
   ]
  },
  {
   "cell_type": "markdown",
   "metadata": {},
   "source": [
    "##### Passo 3 - Tratar os dados"
   ]
  },
  {
   "cell_type": "code",
   "execution_count": null,
   "metadata": {},
   "outputs": [],
   "source": [
    "#Excluir colunas inúteis\n",
    "tabela = tabela.drop(columns=\"CustomerID\", axis=1)\n",
    "display(tabela)\n",
    "\n",
    "#Excluir os valores vazios\n",
    "tabela = tabela.dropna()\n",
    "tabela.info()"
   ]
  },
  {
   "cell_type": "markdown",
   "metadata": {},
   "source": [
    "##### Passo 4 - Análise geral os dados"
   ]
  },
  {
   "cell_type": "code",
   "execution_count": null,
   "metadata": {},
   "outputs": [],
   "source": [
    "#Quantas pessoas cancelaram e quantas não cancelaram?\n",
    "print(tabela[\"cancelou\"].value_counts())\n",
    "\n",
    "#Qual o percentual?\n",
    "print(tabela[\"cancelou\"].value_counts(normalize=True))"
   ]
  },
  {
   "cell_type": "markdown",
   "metadata": {},
   "source": [
    "##### Passo 5 - Criar gráficos relacionando a coluna que deseja analisar (cancelamento) com cada uma das outras colunas que pode ser a causa do problema\n",
    "\n",
    "Importar a biblioteca plotly.express"
   ]
  },
  {
   "cell_type": "code",
   "execution_count": null,
   "metadata": {},
   "outputs": [],
   "source": [
    "import plotly.express as px\n",
    "\n",
    "for coluna in tabela.columns:\n",
    "  grafico=px.histogram(tabela, x=coluna, color=\"cancelou\")\n",
    "  grafico.show()"
   ]
  },
  {
   "cell_type": "markdown",
   "metadata": {},
   "source": [
    "##### Passo 6 - Conclusão das análises considerando as principais causas\n",
    "\n",
    "    Após análise foram destacadas como possíveis causas de cancelamento as seguintes colunas: idade, ligacoes_callcenter, dias_atraso e duracao_contrato.\n",
    "\n",
    "É interessante ir traçando junto à análise quais possíveis insights ajudariam a solucionar o problema."
   ]
  },
  {
   "cell_type": "markdown",
   "metadata": {},
   "source": [
    "### cancelou x idade\n",
    "\n",
    "Análise feite através dos gráficos gerados anteriormente: Clientes acima de 50 anos TODOS cancelaram;\n",
    "\n",
    "Insight: Oferecer programação para o público acima de 50 anos."
   ]
  },
  {
   "cell_type": "code",
   "execution_count": null,
   "metadata": {},
   "outputs": [],
   "source": [
    "tabela = tabela[tabela[\"idade\"]<=50]\n",
    "display(tabela[\"cancelou\"].value_counts())\n",
    "#percentual\n",
    "display(tabela[\"cancelou\"].value_counts(normalize=True))"
   ]
  },
  {
   "cell_type": "markdown",
   "metadata": {},
   "source": [
    "Quando retiramos os clientes acima de 50 anos e relacionamos com a coluna de cancelamento (cancelou) podemos observar a diminuição no número de cancelamentos (passa de 57% para 36%)."
   ]
  },
  {
   "cell_type": "markdown",
   "metadata": {},
   "source": [
    "### cancelou x ligacoes_callcenter"
   ]
  },
  {
   "cell_type": "markdown",
   "metadata": {},
   "source": [
    "Análise feite através dos gráficos gerados anteriormente: Clientes que ligaram mais de 4x TODOS cancelaram;\n",
    "\n",
    "Insight: Criar política para resolucionar os problemas dos cliente em até 3 ligações."
   ]
  },
  {
   "cell_type": "code",
   "execution_count": null,
   "metadata": {},
   "outputs": [],
   "source": [
    "tabela = tabela[tabela[\"ligacoes_callcenter\"]<=4]\n",
    "display(tabela[\"cancelou\"].value_counts())\n",
    "#percentual\n",
    "display(tabela[\"cancelou\"].value_counts(normalize=True))"
   ]
  },
  {
   "cell_type": "markdown",
   "metadata": {},
   "source": [
    "Quando retiramos os clientes que ligaram 4x ou mais para o call center e relacionamos com a coluna de cancelamento (cancelou) podemos observar a diminuição no número de cancelamentos (passa de 36% para 21%)."
   ]
  },
  {
   "cell_type": "markdown",
   "metadata": {},
   "source": [
    "### cancelou x dias_atraso"
   ]
  },
  {
   "cell_type": "markdown",
   "metadata": {},
   "source": [
    "Análise feite através dos gráficos gerados anteriormente: Clientes com 20 dias ou mais de atraso cancelaram;\n",
    "\n",
    "Insight: Entrar em contato com os clientes antes dos 15 dias de atraso (financeiro)."
   ]
  },
  {
   "cell_type": "code",
   "execution_count": null,
   "metadata": {},
   "outputs": [],
   "source": [
    "tabela = tabela[tabela[\"dias_atraso\"]<=20]\n",
    "display(tabela[\"cancelou\"].value_counts())\n",
    "#percentual\n",
    "display(tabela[\"cancelou\"].value_counts(normalize=True))"
   ]
  },
  {
   "cell_type": "markdown",
   "metadata": {},
   "source": [
    "Quando retiramos os clientes com 20 dias ou mais de atraso e relacionamos com a coluna de cancelamento (cancelou) podemos observar a diminuição no número de cancelamentos (passa de 21% para 15%)."
   ]
  },
  {
   "cell_type": "markdown",
   "metadata": {},
   "source": [
    "### cancelou x duracao_contrato"
   ]
  },
  {
   "cell_type": "markdown",
   "metadata": {},
   "source": [
    "Análise feite através dos gráficos gerados anteriormente: clientes com planos mensais TODOS cancelaram.\n",
    "\n",
    "Insight: Oferecer descontos em planos trimestrais e anuais."
   ]
  },
  {
   "cell_type": "code",
   "execution_count": null,
   "metadata": {},
   "outputs": [],
   "source": [
    "tabela = tabela[tabela[\"duracao_contrato\"]!=\"Monthly\"]\n",
    "display(tabela[\"cancelou\"].value_counts())\n",
    "#percentual\n",
    "display(tabela[\"cancelou\"].value_counts(normalize=True))"
   ]
  },
  {
   "cell_type": "markdown",
   "metadata": {},
   "source": [
    "Quando retiramos os clientes com planos mensais e relacionamos com a coluna de cancelamento (cancelou) podemos observar a diminuição no número de cancelamentos (passa de 15% para 9%)."
   ]
  },
  {
   "cell_type": "markdown",
   "metadata": {},
   "source": [
    "OBS.:\n",
    "Para sair de 57% de cancelamento para 9% as ações foram somadas."
   ]
  }
 ],
 "metadata": {
  "language_info": {
   "name": "python"
  }
 },
 "nbformat": 4,
 "nbformat_minor": 2
}
